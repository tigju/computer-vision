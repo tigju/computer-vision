{
 "cells": [
  {
   "cell_type": "markdown",
   "id": "quantitative-beauty",
   "metadata": {},
   "source": [
    "### Read, write and display images with OpenCV"
   ]
  },
  {
   "cell_type": "code",
   "execution_count": 1,
   "id": "diagnostic-knowing",
   "metadata": {},
   "outputs": [],
   "source": [
    "import cv2"
   ]
  },
  {
   "cell_type": "code",
   "execution_count": 2,
   "id": "contrary-clone",
   "metadata": {},
   "outputs": [],
   "source": [
    "import numpy as np"
   ]
  },
  {
   "cell_type": "code",
   "execution_count": 3,
   "id": "hired-praise",
   "metadata": {},
   "outputs": [],
   "source": [
    "# read image\n",
    "input = cv2.imread('imgs/blackcat.jpeg')\n",
    "\n",
    "# show image\n",
    "cv2.imshow('Black cat and Dog', input)\n",
    "\n",
    "# by leaving it blank, it waits for any key to be pressed before continuing\n",
    "cv2.waitKey()\n",
    "\n",
    "# closes all opened windows\n",
    "cv2.destroyAllWindows()"
   ]
  },
  {
   "cell_type": "code",
   "execution_count": 4,
   "id": "recovered-bermuda",
   "metadata": {},
   "outputs": [
    {
     "name": "stdout",
     "output_type": "stream",
     "text": [
      "(720, 1280, 3)\n"
     ]
    }
   ],
   "source": [
    "# how images are stored\n",
    "# (height, width, number of channels (R,G,B))\n",
    "print(input.shape)"
   ]
  },
  {
   "cell_type": "code",
   "execution_count": 5,
   "id": "southeast-kitty",
   "metadata": {},
   "outputs": [
    {
     "name": "stdout",
     "output_type": "stream",
     "text": [
      "Image Height: 720 pixels\n",
      "Image Width: 1280 pixels\n",
      "Number of Channels: 3\n"
     ]
    }
   ],
   "source": [
    "print(\"Image Height:\", input.shape[0], 'pixels')\n",
    "print(\"Image Width:\", input.shape[1], 'pixels')\n",
    "print('Number of Channels:', input.shape[2])"
   ]
  },
  {
   "cell_type": "markdown",
   "id": "fantastic-thread",
   "metadata": {},
   "source": [
    "#### How to save images in in OpenCV"
   ]
  },
  {
   "cell_type": "code",
   "execution_count": 7,
   "id": "removable-spyware",
   "metadata": {},
   "outputs": [
    {
     "data": {
      "text/plain": [
       "True"
      ]
     },
     "execution_count": 7,
     "metadata": {},
     "output_type": "execute_result"
    }
   ],
   "source": [
    "cv2.imwrite('imgs/output.png', input)"
   ]
  },
  {
   "cell_type": "code",
   "execution_count": null,
   "id": "falling-crest",
   "metadata": {},
   "outputs": [],
   "source": []
  }
 ],
 "metadata": {
  "kernelspec": {
   "display_name": "Python 3",
   "language": "python",
   "name": "python3"
  },
  "language_info": {
   "codemirror_mode": {
    "name": "ipython",
    "version": 3
   },
   "file_extension": ".py",
   "mimetype": "text/x-python",
   "name": "python",
   "nbconvert_exporter": "python",
   "pygments_lexer": "ipython3",
   "version": "3.7.6"
  }
 },
 "nbformat": 4,
 "nbformat_minor": 5
}
