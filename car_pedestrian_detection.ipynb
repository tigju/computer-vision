{
 "cells": [
  {
   "cell_type": "markdown",
   "id": "pretty-cylinder",
   "metadata": {},
   "source": [
    "#### Car and Pedestrian Detection"
   ]
  },
  {
   "cell_type": "code",
   "execution_count": 1,
   "id": "executed-adelaide",
   "metadata": {},
   "outputs": [],
   "source": [
    "import cv2"
   ]
  },
  {
   "cell_type": "code",
   "execution_count": 5,
   "id": "aggregate-pencil",
   "metadata": {},
   "outputs": [],
   "source": [
    "body_classifier = cv2.CascadeClassifier('C:/Users/tigju/Anaconda3/envs/datascience/Library/etc/haarcascades/haarcascade_fullbody.xml')\n",
    "\n",
    "cap = cv2.VideoCapture('imgs/nypedestrians.mp4')\n",
    "\n",
    "while cap.isOpened():\n",
    "    # read first frame\n",
    "    ret, frame = cap.read()\n",
    "    frame =cv2.resize(frame, None, fx=0.5, fy=0.5, interpolation= cv2.INTER_LINEAR)\n",
    "    \n",
    "    gray = cv2.cvtColor(frame, cv2.COLOR_BGR2GRAY)\n",
    "    bodies = body_classifier.detectMultiScale(gray, 1.2, 3)\n",
    "    \n",
    "    for (x,y,w,h) in bodies:\n",
    "        cv2.rectangle(frame, (x,y), (x+w, y+h), (0, 255, 255), 2)\n",
    "        cv2.imshow('Pedestrians', frame)\n",
    "        \n",
    "    if cv2.waitKey(1) == 13: # enter key\n",
    "        break\n",
    "\n",
    "cap.release()\n",
    "cv2.destroyAllWindows()"
   ]
  },
  {
   "cell_type": "markdown",
   "id": "interesting-juvenile",
   "metadata": {},
   "source": [
    "#### Car detenction"
   ]
  },
  {
   "cell_type": "code",
   "execution_count": 6,
   "id": "molecular-isaac",
   "metadata": {},
   "outputs": [],
   "source": [
    "import time\n",
    "import numpy as np"
   ]
  },
  {
   "cell_type": "code",
   "execution_count": 11,
   "id": "portable-stack",
   "metadata": {},
   "outputs": [],
   "source": [
    "car_classifier = cv2.CascadeClassifier('C:/Users/tigju/Anaconda3/envs/datascience/Library/etc/haarcascades/haarcascade_car.xml')\n",
    "\n",
    "cap = cv2.VideoCapture('imgs/cars.avi')\n",
    "\n",
    "while cap.isOpened():\n",
    "    time.sleep(0.05)\n",
    "    # read first frame\n",
    "    ret, frame = cap.read()\n",
    "    frame =cv2.resize(frame, None, fx=0.5, fy=0.5, interpolation= cv2.INTER_LINEAR)\n",
    "    \n",
    "    gray = cv2.cvtColor(frame, cv2.COLOR_BGR2GRAY)\n",
    "    cars = car_classifier.detectMultiScale(gray, 1.4, 2)\n",
    "    \n",
    "    for (x,y,w,h) in cars:\n",
    "        cv2.rectangle(frame, (x,y), (x+w, y+h), (0, 255, 255), 2)\n",
    "        cv2.imshow('Cars', frame)\n",
    "        \n",
    "    if cv2.waitKey(1) == 13: # enter key\n",
    "        break\n",
    "\n",
    "cap.release()\n",
    "cv2.destroyAllWindows()"
   ]
  },
  {
   "cell_type": "code",
   "execution_count": null,
   "id": "referenced-header",
   "metadata": {},
   "outputs": [],
   "source": []
  }
 ],
 "metadata": {
  "kernelspec": {
   "display_name": "Python 3",
   "language": "python",
   "name": "python3"
  },
  "language_info": {
   "codemirror_mode": {
    "name": "ipython",
    "version": 3
   },
   "file_extension": ".py",
   "mimetype": "text/x-python",
   "name": "python",
   "nbconvert_exporter": "python",
   "pygments_lexer": "ipython3",
   "version": "3.7.6"
  }
 },
 "nbformat": 4,
 "nbformat_minor": 5
}
