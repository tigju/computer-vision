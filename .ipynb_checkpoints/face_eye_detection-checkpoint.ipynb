{
 "cells": [
  {
   "cell_type": "code",
   "execution_count": 1,
   "id": "sitting-pacific",
   "metadata": {},
   "outputs": [],
   "source": [
    "import cv2\n",
    "import numpy as np"
   ]
  },
  {
   "cell_type": "code",
   "execution_count": 22,
   "id": "incorrect-liechtenstein",
   "metadata": {},
   "outputs": [],
   "source": [
    "# load the required XML classifiers already pre-trained in OpenCV\n",
    "face_cascade = cv2.CascadeClassifier('C:/Users/tigju/Anaconda3/envs/datascience/Library/etc/haarcascades/haarcascade_frontalface_default.xml')"
   ]
  },
  {
   "cell_type": "code",
   "execution_count": 8,
   "id": "ready-deficit",
   "metadata": {},
   "outputs": [],
   "source": [
    "# upload image and convert to grayscale\n",
    "image = cv2.imread('imgs/profile.jpg')\n",
    "\n",
    "# when opencv reads an rgb (red,green,blue) image, it stores it in bgr format (blue,green, red)\n",
    "# convert it to grayscale for faster processing (sinc it's just one channel like black and white)\n",
    "gray = cv2.cvtColor(image, cv2.COLOR_BGR2GRAY)"
   ]
  },
  {
   "cell_type": "code",
   "execution_count": 9,
   "id": "documented-medline",
   "metadata": {},
   "outputs": [],
   "source": [
    "cv2.imshow('me', gray)\n",
    "cv2.waitKey()\n",
    "cv2.destroyAllWindows()"
   ]
  },
  {
   "cell_type": "code",
   "execution_count": 12,
   "id": "ordinary-ebony",
   "metadata": {},
   "outputs": [
    {
     "data": {
      "text/plain": [
       "array([[191, 218, 201, ...,  12,  13,  14],\n",
       "       [169, 187, 197, ...,  11,  18,  19],\n",
       "       [203, 192, 193, ...,  16,  17,  18],\n",
       "       ...,\n",
       "       [183, 186, 202, ..., 111, 113, 113],\n",
       "       [191, 194, 224, ..., 107, 105,  97],\n",
       "       [189, 190, 217, ..., 106,  99,  91]], dtype=uint8)"
      ]
     },
     "execution_count": 12,
     "metadata": {},
     "output_type": "execute_result"
    }
   ],
   "source": [
    "gray"
   ]
  },
  {
   "cell_type": "code",
   "execution_count": 23,
   "id": "careful-connection",
   "metadata": {},
   "outputs": [],
   "source": [
    "# classifier returns ROI of the detected face as a tuple and\n",
    "# it stores the top left coordinate and the bottom right coordinate\n",
    "faces = face_cascade.detectMultiScale(gray, 1.3, 5)\n",
    "\n",
    "# when face is not detected, classifier returns an empty tuple\n",
    "if faces is ():\n",
    "    print(\"No faces found\")\n",
    "    \n",
    "# iterate thought faces and draw a rectangle over each face in faces\n",
    "for (x,y,w,h) in faces:\n",
    "    cv2.rectangle(image, (x,y), (x+w, y+h), (127, 0, 255), 2)\n",
    "    cv2.imshow('Face Detection', image)\n",
    "    cv2.waitKey()\n",
    "    \n",
    "cv2.destroyAllWindows()"
   ]
  },
  {
   "cell_type": "code",
   "execution_count": null,
   "id": "terminal-rwanda",
   "metadata": {},
   "outputs": [],
   "source": []
  }
 ],
 "metadata": {
  "kernelspec": {
   "display_name": "Python 3",
   "language": "python",
   "name": "python3"
  },
  "language_info": {
   "codemirror_mode": {
    "name": "ipython",
    "version": 3
   },
   "file_extension": ".py",
   "mimetype": "text/x-python",
   "name": "python",
   "nbconvert_exporter": "python",
   "pygments_lexer": "ipython3",
   "version": "3.7.6"
  }
 },
 "nbformat": 4,
 "nbformat_minor": 5
}
